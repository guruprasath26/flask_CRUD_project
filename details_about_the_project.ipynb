{
 "cells": [
  {
   "cell_type": "markdown",
   "metadata": {},
   "source": [
    "1. normal flask project \n",
    "2. using html , css,bootstrap and javascript\n",
    "\n",
    "3. flask with db connection \n",
    "\n",
    "4. in html using loop concept\n",
    "5. retrive the data using index method\n",
    "\n",
    "6. in html page using edit , add and delete concept are using\n",
    "\n",
    "7. in this flask project i am not using the api or rest api\n",
    "\n",
    "8. and also i am attaching my screenshot for project view"
   ]
  }
 ],
 "metadata": {
  "language_info": {
   "name": "python"
  },
  "orig_nbformat": 4
 },
 "nbformat": 4,
 "nbformat_minor": 2
}
